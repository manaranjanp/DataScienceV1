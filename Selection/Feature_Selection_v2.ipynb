{
 "cells": [
  {
   "cell_type": "markdown",
   "metadata": {},
   "source": [
    "# Coronary Heart Disease\n",
    "\n",
    "This tutorial will discuss how to build classification model and how to evaluate a model.\n",
    "\n",
    "\n",
    "### What is coronary heart disease?\n",
    "\n",
    "\n",
    "[Coronary heart disease (CHD)](https://en.wikipedia.org/wiki/Coronary_artery_disease)  is when your coronary arteries (the arteries that supply your heart muscle with oxygen-rich blood) become narrowed by a gradual build-up of fatty material within their walls. These arteries can become narrowed through build-up of plaque, which is made up of cholesterol and other substances. Narrowed arteries can cause symptoms, such as chest pain (angina), shortness of breath, and fatigue.\n",
    "\n",
    "\n",
    "### Dataset Description\n",
    "\n",
    "Data is avaialable at: http://statweb.stanford.edu/~tibs/ElemStatLearn/datasets/\n",
    "And header informtion is available at: http://statweb.stanford.edu/~tibs/ElemStatLearn/datasets/SAheart.info.txt\n",
    "\n",
    "A retrospective sample of **males in a heart-disease high-risk region of the Western Cape, South Africa**. There are roughly two controls per case of CHD. Many of the CHD positive men have undergone blood pressure reduction treatment and other programs to reduce their risk factors after their CHD event. In some cases the measurements were made after these treatments. These data are taken from a larger dataset, described in Rousseauw et al, 1983, South African Medical Journal. "
   ]
  },
  {
   "cell_type": "markdown",
   "metadata": {},
   "source": [
    "### Import and load the dataset"
   ]
  },
  {
   "cell_type": "code",
   "execution_count": 3,
   "metadata": {},
   "outputs": [],
   "source": [
    "import pandas as pd\n",
    "import numpy as np\n",
    "import matplotlib.pyplot as plt\n",
    "import seaborn as sn"
   ]
  },
  {
   "cell_type": "code",
   "execution_count": 4,
   "metadata": {},
   "outputs": [],
   "source": [
    "saheart_ds = pd.read_csv( \"SAheart.data\" )"
   ]
  },
  {
   "cell_type": "code",
   "execution_count": 5,
   "metadata": {},
   "outputs": [
    {
     "data": {
      "text/html": [
       "<div>\n",
       "<style scoped>\n",
       "    .dataframe tbody tr th:only-of-type {\n",
       "        vertical-align: middle;\n",
       "    }\n",
       "\n",
       "    .dataframe tbody tr th {\n",
       "        vertical-align: top;\n",
       "    }\n",
       "\n",
       "    .dataframe thead th {\n",
       "        text-align: right;\n",
       "    }\n",
       "</style>\n",
       "<table border=\"1\" class=\"dataframe\">\n",
       "  <thead>\n",
       "    <tr style=\"text-align: right;\">\n",
       "      <th></th>\n",
       "      <th>row.names</th>\n",
       "      <th>sbp</th>\n",
       "      <th>tobacco</th>\n",
       "      <th>ldl</th>\n",
       "      <th>adiposity</th>\n",
       "      <th>famhist</th>\n",
       "      <th>typea</th>\n",
       "      <th>obesity</th>\n",
       "      <th>alcohol</th>\n",
       "      <th>age</th>\n",
       "      <th>chd</th>\n",
       "    </tr>\n",
       "  </thead>\n",
       "  <tbody>\n",
       "    <tr>\n",
       "      <th>402</th>\n",
       "      <td>404</td>\n",
       "      <td>178</td>\n",
       "      <td>5.50</td>\n",
       "      <td>3.79</td>\n",
       "      <td>23.92</td>\n",
       "      <td>Present</td>\n",
       "      <td>45</td>\n",
       "      <td>21.26</td>\n",
       "      <td>6.17</td>\n",
       "      <td>62</td>\n",
       "      <td>1</td>\n",
       "    </tr>\n",
       "    <tr>\n",
       "      <th>38</th>\n",
       "      <td>39</td>\n",
       "      <td>130</td>\n",
       "      <td>0.00</td>\n",
       "      <td>2.82</td>\n",
       "      <td>19.63</td>\n",
       "      <td>Present</td>\n",
       "      <td>70</td>\n",
       "      <td>24.86</td>\n",
       "      <td>0.00</td>\n",
       "      <td>29</td>\n",
       "      <td>0</td>\n",
       "    </tr>\n",
       "    <tr>\n",
       "      <th>366</th>\n",
       "      <td>368</td>\n",
       "      <td>150</td>\n",
       "      <td>0.00</td>\n",
       "      <td>4.99</td>\n",
       "      <td>27.73</td>\n",
       "      <td>Absent</td>\n",
       "      <td>57</td>\n",
       "      <td>30.92</td>\n",
       "      <td>8.33</td>\n",
       "      <td>24</td>\n",
       "      <td>0</td>\n",
       "    </tr>\n",
       "    <tr>\n",
       "      <th>229</th>\n",
       "      <td>230</td>\n",
       "      <td>188</td>\n",
       "      <td>0.00</td>\n",
       "      <td>5.47</td>\n",
       "      <td>32.44</td>\n",
       "      <td>Present</td>\n",
       "      <td>71</td>\n",
       "      <td>28.99</td>\n",
       "      <td>7.41</td>\n",
       "      <td>50</td>\n",
       "      <td>1</td>\n",
       "    </tr>\n",
       "    <tr>\n",
       "      <th>425</th>\n",
       "      <td>427</td>\n",
       "      <td>132</td>\n",
       "      <td>0.00</td>\n",
       "      <td>3.30</td>\n",
       "      <td>21.61</td>\n",
       "      <td>Absent</td>\n",
       "      <td>42</td>\n",
       "      <td>24.92</td>\n",
       "      <td>32.61</td>\n",
       "      <td>33</td>\n",
       "      <td>0</td>\n",
       "    </tr>\n",
       "    <tr>\n",
       "      <th>200</th>\n",
       "      <td>201</td>\n",
       "      <td>124</td>\n",
       "      <td>0.16</td>\n",
       "      <td>2.44</td>\n",
       "      <td>16.67</td>\n",
       "      <td>Absent</td>\n",
       "      <td>65</td>\n",
       "      <td>24.58</td>\n",
       "      <td>74.91</td>\n",
       "      <td>23</td>\n",
       "      <td>0</td>\n",
       "    </tr>\n",
       "    <tr>\n",
       "      <th>6</th>\n",
       "      <td>7</td>\n",
       "      <td>142</td>\n",
       "      <td>4.05</td>\n",
       "      <td>3.38</td>\n",
       "      <td>16.20</td>\n",
       "      <td>Absent</td>\n",
       "      <td>59</td>\n",
       "      <td>20.81</td>\n",
       "      <td>2.62</td>\n",
       "      <td>38</td>\n",
       "      <td>0</td>\n",
       "    </tr>\n",
       "    <tr>\n",
       "      <th>439</th>\n",
       "      <td>441</td>\n",
       "      <td>130</td>\n",
       "      <td>4.00</td>\n",
       "      <td>2.40</td>\n",
       "      <td>17.42</td>\n",
       "      <td>Absent</td>\n",
       "      <td>60</td>\n",
       "      <td>22.05</td>\n",
       "      <td>0.00</td>\n",
       "      <td>40</td>\n",
       "      <td>0</td>\n",
       "    </tr>\n",
       "    <tr>\n",
       "      <th>254</th>\n",
       "      <td>255</td>\n",
       "      <td>161</td>\n",
       "      <td>9.00</td>\n",
       "      <td>4.65</td>\n",
       "      <td>15.16</td>\n",
       "      <td>Present</td>\n",
       "      <td>58</td>\n",
       "      <td>23.76</td>\n",
       "      <td>43.20</td>\n",
       "      <td>46</td>\n",
       "      <td>0</td>\n",
       "    </tr>\n",
       "    <tr>\n",
       "      <th>438</th>\n",
       "      <td>440</td>\n",
       "      <td>130</td>\n",
       "      <td>1.22</td>\n",
       "      <td>3.30</td>\n",
       "      <td>13.65</td>\n",
       "      <td>Absent</td>\n",
       "      <td>50</td>\n",
       "      <td>21.40</td>\n",
       "      <td>3.81</td>\n",
       "      <td>31</td>\n",
       "      <td>0</td>\n",
       "    </tr>\n",
       "  </tbody>\n",
       "</table>\n",
       "</div>"
      ],
      "text/plain": [
       "     row.names  sbp  tobacco   ldl  adiposity  famhist  typea  obesity  \\\n",
       "402        404  178     5.50  3.79      23.92  Present     45    21.26   \n",
       "38          39  130     0.00  2.82      19.63  Present     70    24.86   \n",
       "366        368  150     0.00  4.99      27.73   Absent     57    30.92   \n",
       "229        230  188     0.00  5.47      32.44  Present     71    28.99   \n",
       "425        427  132     0.00  3.30      21.61   Absent     42    24.92   \n",
       "200        201  124     0.16  2.44      16.67   Absent     65    24.58   \n",
       "6            7  142     4.05  3.38      16.20   Absent     59    20.81   \n",
       "439        441  130     4.00  2.40      17.42   Absent     60    22.05   \n",
       "254        255  161     9.00  4.65      15.16  Present     58    23.76   \n",
       "438        440  130     1.22  3.30      13.65   Absent     50    21.40   \n",
       "\n",
       "     alcohol  age  chd  \n",
       "402     6.17   62    1  \n",
       "38      0.00   29    0  \n",
       "366     8.33   24    0  \n",
       "229     7.41   50    1  \n",
       "425    32.61   33    0  \n",
       "200    74.91   23    0  \n",
       "6       2.62   38    0  \n",
       "439     0.00   40    0  \n",
       "254    43.20   46    0  \n",
       "438     3.81   31    0  "
      ]
     },
     "execution_count": 5,
     "metadata": {},
     "output_type": "execute_result"
    }
   ],
   "source": [
    "saheart_ds.sample(10)"
   ]
  },
  {
   "cell_type": "code",
   "execution_count": 6,
   "metadata": {},
   "outputs": [
    {
     "data": {
      "text/plain": [
       "Index(['row.names', 'sbp', 'tobacco', 'ldl', 'adiposity', 'famhist', 'typea',\n",
       "       'obesity', 'alcohol', 'age', 'chd'],\n",
       "      dtype='object')"
      ]
     },
     "execution_count": 6,
     "metadata": {},
     "output_type": "execute_result"
    }
   ],
   "source": [
    "saheart_ds.columns"
   ]
  },
  {
   "cell_type": "code",
   "execution_count": 7,
   "metadata": {},
   "outputs": [
    {
     "name": "stdout",
     "output_type": "stream",
     "text": [
      "<class 'pandas.core.frame.DataFrame'>\n",
      "RangeIndex: 462 entries, 0 to 461\n",
      "Data columns (total 11 columns):\n",
      " #   Column     Non-Null Count  Dtype  \n",
      "---  ------     --------------  -----  \n",
      " 0   row.names  462 non-null    int64  \n",
      " 1   sbp        462 non-null    int64  \n",
      " 2   tobacco    462 non-null    float64\n",
      " 3   ldl        462 non-null    float64\n",
      " 4   adiposity  462 non-null    float64\n",
      " 5   famhist    462 non-null    object \n",
      " 6   typea      462 non-null    int64  \n",
      " 7   obesity    462 non-null    float64\n",
      " 8   alcohol    462 non-null    float64\n",
      " 9   age        462 non-null    int64  \n",
      " 10  chd        462 non-null    int64  \n",
      "dtypes: float64(5), int64(5), object(1)\n",
      "memory usage: 39.8+ KB\n"
     ]
    }
   ],
   "source": [
    "saheart_ds.info()"
   ]
  },
  {
   "cell_type": "markdown",
   "metadata": {},
   "source": [
    "The class label int the column **chd** indicates if the person has a coronary heart disease: negative (0) or positive (1). \n",
    "\n",
    "Attributes description: \n",
    "- **sbp**:          systolic blood pressure \n",
    "- **tobacco**:      cumulative tobacco (kg) \n",
    "- **ldl**:          low densiity lipoprotein cholesterol \n",
    "- **adiposity**:    the size of the hips compared to the person's height \n",
    "- **famhist**:      family history of heart disease (Present, Absent) \n",
    "- **typea**:        type-A behavior \n",
    "- **obesity**:      BMI index\n",
    "- **alcohol**:      current alcohol consumption \n",
    "- **age**:          age at onset"
   ]
  },
  {
   "cell_type": "markdown",
   "metadata": {},
   "source": [
    "## Exploratory Data Analysis"
   ]
  },
  {
   "cell_type": "markdown",
   "metadata": {},
   "source": [
    "### Number of observations available for people with CHD and without CHD"
   ]
  },
  {
   "cell_type": "code",
   "execution_count": 8,
   "metadata": {},
   "outputs": [
    {
     "data": {
      "text/plain": [
       "0    302\n",
       "1    160\n",
       "Name: chd, dtype: int64"
      ]
     },
     "execution_count": 8,
     "metadata": {},
     "output_type": "execute_result"
    }
   ],
   "source": [
    "saheart_ds.chd.value_counts()"
   ]
  },
  {
   "cell_type": "markdown",
   "metadata": {},
   "source": [
    "### What impact alcohol consumption has on CHD?"
   ]
  },
  {
   "cell_type": "code",
   "execution_count": 9,
   "metadata": {},
   "outputs": [
    {
     "data": {
      "image/png": "[encoded data removed]",
      "text/plain": [
       "<Figure size 576x432 with 1 Axes>"
      ]
     },
     "metadata": {
      "needs_background": "light"
     },
     "output_type": "display_data"
    }
   ],
   "source": [
    "plt.figure(figsize=(8, 6))\n",
    "\n",
    "sn.kdeplot( data = saheart_ds,\n",
    "            x = 'alcohol',\n",
    "            hue = 'chd');"
   ]
  },
  {
   "cell_type": "markdown",
   "metadata": {},
   "source": [
    "#### Note:\n",
    "\n",
    "Distribution of alcohol consumption for people with CHD and no CHD seems similar. We can verify this with a hypothesis test."
   ]
  },
  {
   "cell_type": "code",
   "execution_count": 8,
   "metadata": {},
   "outputs": [],
   "source": [
    "import scipy.stats as stats"
   ]
  },
  {
   "cell_type": "code",
   "execution_count": 9,
   "metadata": {},
   "outputs": [
    {
     "data": {
      "text/plain": [
       "Ttest_indResult(statistic=-1.3437633510233433, pvalue=0.1796873576620041)"
      ]
     },
     "execution_count": 9,
     "metadata": {},
     "output_type": "execute_result"
    }
   ],
   "source": [
    "stats.ttest_ind( saheart_ds[ saheart_ds.chd == 0 ].alcohol, \n",
    "                 saheart_ds[ saheart_ds.chd == 1 ].alcohol )"
   ]
  },
  {
   "cell_type": "markdown",
   "metadata": {},
   "source": [
    "#### Note:\n",
    "\n",
    "Average achohol consumption of people with CHD and NO CHD are same. So, achohol consumption may be a non significant factor in determining or predicting CHD."
   ]
  },
  {
   "cell_type": "markdown",
   "metadata": {},
   "source": [
    "### What impact tobacco consumption has on CHD?"
   ]
  },
  {
   "cell_type": "code",
   "execution_count": 10,
   "metadata": {},
   "outputs": [
    {
     "data": {
      "image/png": "[encoded data removed]",
      "text/plain": [
       "<Figure size 576x432 with 1 Axes>"
      ]
     },
     "metadata": {
      "needs_background": "light"
     },
     "output_type": "display_data"
    }
   ],
   "source": [
    "plt.figure(figsize=(8, 6))\n",
    "\n",
    "sn.kdeplot( data = saheart_ds,\n",
    "            x = 'tobacco',\n",
    "            hue = 'chd');"
   ]
  },
  {
   "cell_type": "code",
   "execution_count": 11,
   "metadata": {},
   "outputs": [
    {
     "data": {
      "text/plain": [
       "Ttest_indResult(statistic=-6.737983717964519, pvalue=4.815842571605575e-11)"
      ]
     },
     "execution_count": 11,
     "metadata": {},
     "output_type": "execute_result"
    }
   ],
   "source": [
    "stats.ttest_ind( saheart_ds[ saheart_ds.chd == 0 ].tobacco, \n",
    "                 saheart_ds[ saheart_ds.chd == 1 ].tobacco )"
   ]
  },
  {
   "cell_type": "markdown",
   "metadata": {},
   "source": [
    "### What impact age has on CHD?"
   ]
  },
  {
   "cell_type": "code",
   "execution_count": 12,
   "metadata": {},
   "outputs": [
    {
     "data": {
      "text/plain": [
       "<Figure size 576x432 with 0 Axes>"
      ]
     },
     "metadata": {},
     "output_type": "display_data"
    },
    {
     "data": {
      "image/png": "[encoded data removed]",
      "text/plain": [
       "<Figure size 576x432 with 1 Axes>"
      ]
     },
     "metadata": {
      "needs_background": "light"
     },
     "output_type": "display_data"
    }
   ],
   "source": [
    "plt.figure(figsize=(8, 6))\n",
    "\n",
    "plt.figure(figsize=(8, 6))\n",
    "\n",
    "sn.kdeplot( data = saheart_ds,\n",
    "            x = 'age',\n",
    "            hue = 'chd');"
   ]
  },
  {
   "cell_type": "code",
   "execution_count": 13,
   "metadata": {},
   "outputs": [
    {
     "data": {
      "text/plain": [
       "Ttest_indResult(statistic=-8.621496303728742, pvalue=1.0741818171806074e-16)"
      ]
     },
     "execution_count": 13,
     "metadata": {},
     "output_type": "execute_result"
    }
   ],
   "source": [
    "stats.ttest_ind( saheart_ds[ saheart_ds.chd == 0 ].age, \n",
    "                 saheart_ds[ saheart_ds.chd == 1 ].age )"
   ]
  },
  {
   "cell_type": "markdown",
   "metadata": {},
   "source": [
    "### What impact family history has on CHD?"
   ]
  },
  {
   "cell_type": "code",
   "execution_count": 14,
   "metadata": {},
   "outputs": [
    {
     "data": {
      "image/png": "[encoded data removed]",
      "text/plain": [
       "<Figure size 432x288 with 1 Axes>"
      ]
     },
     "metadata": {
      "needs_background": "light"
     },
     "output_type": "display_data"
    }
   ],
   "source": [
    "sn.countplot(data = saheart_ds, \n",
    "             x = \"famhist\", \n",
    "             hue = \"chd\" );"
   ]
  },
  {
   "cell_type": "markdown",
   "metadata": {},
   "source": [
    "#### Note: \n",
    "\n",
    "It can be observed that the chances of CHD for people having family history is higher compared to people with no famility history."
   ]
  },
  {
   "cell_type": "code",
   "execution_count": 15,
   "metadata": {},
   "outputs": [],
   "source": [
    "crosstable = pd.crosstab(saheart_ds.famhist, saheart_ds.chd)"
   ]
  },
  {
   "cell_type": "code",
   "execution_count": 16,
   "metadata": {},
   "outputs": [],
   "source": [
    "crosstable_array = np.array(crosstable)"
   ]
  },
  {
   "cell_type": "code",
   "execution_count": 17,
   "metadata": {},
   "outputs": [
    {
     "data": {
      "text/plain": [
       "array([206,  64])"
      ]
     },
     "execution_count": 17,
     "metadata": {},
     "output_type": "execute_result"
    }
   ],
   "source": [
    "crosstable_array[0]"
   ]
  },
  {
   "cell_type": "code",
   "execution_count": 18,
   "metadata": {},
   "outputs": [
    {
     "data": {
      "text/plain": [
       "Power_divergenceResult(statistic=22.533333333333335, pvalue=2.0652857961262046e-06)"
      ]
     },
     "execution_count": 18,
     "metadata": {},
     "output_type": "execute_result"
    }
   ],
   "source": [
    "stats.chisquare(crosstable_array[1], \n",
    "                [135, 135])"
   ]
  },
  {
   "cell_type": "markdown",
   "metadata": {},
   "source": [
    "# Univariate Feature Selection\n",
    "\n",
    "## Regression"
   ]
  },
  {
   "cell_type": "code",
   "execution_count": 20,
   "metadata": {},
   "outputs": [],
   "source": [
    "cars_df = pd.read_csv(\"cars.csv\")"
   ]
  },
  {
   "cell_type": "code",
   "execution_count": 21,
   "metadata": {},
   "outputs": [
    {
     "name": "stdout",
     "output_type": "stream",
     "text": [
      "<class 'pandas.core.frame.DataFrame'>\n",
      "RangeIndex: 1038 entries, 0 to 1037\n",
      "Data columns (total 12 columns):\n",
      " #   Column        Non-Null Count  Dtype  \n",
      "---  ------        --------------  -----  \n",
      " 0   Location      1038 non-null   object \n",
      " 1   Fuel_Type     1038 non-null   object \n",
      " 2   Transmission  1038 non-null   object \n",
      " 3   Owner_Type    1038 non-null   object \n",
      " 4   Seats         1037 non-null   float64\n",
      " 5   Price         1038 non-null   float64\n",
      " 6   age           1038 non-null   int64  \n",
      " 7   KM_Driven     1038 non-null   int64  \n",
      " 8   make          1038 non-null   object \n",
      " 9   mileage       1038 non-null   float64\n",
      " 10  engine        1038 non-null   int64  \n",
      " 11  power         1038 non-null   float64\n",
      "dtypes: float64(4), int64(3), object(5)\n",
      "memory usage: 97.4+ KB\n"
     ]
    }
   ],
   "source": [
    "cars_df.info()"
   ]
  },
  {
   "cell_type": "code",
   "execution_count": 22,
   "metadata": {},
   "outputs": [
    {
     "data": {
      "text/html": [
       "<div>\n",
       "<style scoped>\n",
       "    .dataframe tbody tr th:only-of-type {\n",
       "        vertical-align: middle;\n",
       "    }\n",
       "\n",
       "    .dataframe tbody tr th {\n",
       "        vertical-align: top;\n",
       "    }\n",
       "\n",
       "    .dataframe thead th {\n",
       "        text-align: right;\n",
       "    }\n",
       "</style>\n",
       "<table border=\"1\" class=\"dataframe\">\n",
       "  <thead>\n",
       "    <tr style=\"text-align: right;\">\n",
       "      <th></th>\n",
       "      <th>Location</th>\n",
       "      <th>Fuel_Type</th>\n",
       "      <th>Transmission</th>\n",
       "      <th>Owner_Type</th>\n",
       "      <th>Seats</th>\n",
       "      <th>Price</th>\n",
       "      <th>age</th>\n",
       "      <th>KM_Driven</th>\n",
       "      <th>make</th>\n",
       "      <th>mileage</th>\n",
       "      <th>engine</th>\n",
       "      <th>power</th>\n",
       "    </tr>\n",
       "  </thead>\n",
       "  <tbody>\n",
       "    <tr>\n",
       "      <th>1013</th>\n",
       "      <td>Kolkata</td>\n",
       "      <td>Petrol</td>\n",
       "      <td>Manual</td>\n",
       "      <td>First</td>\n",
       "      <td>5.0</td>\n",
       "      <td>1.00</td>\n",
       "      <td>10</td>\n",
       "      <td>37</td>\n",
       "      <td>maruti</td>\n",
       "      <td>17.30</td>\n",
       "      <td>993</td>\n",
       "      <td>60.00</td>\n",
       "    </tr>\n",
       "    <tr>\n",
       "      <th>32</th>\n",
       "      <td>Kochi</td>\n",
       "      <td>Petrol</td>\n",
       "      <td>Manual</td>\n",
       "      <td>First</td>\n",
       "      <td>5.0</td>\n",
       "      <td>4.04</td>\n",
       "      <td>2</td>\n",
       "      <td>52</td>\n",
       "      <td>hyundai</td>\n",
       "      <td>19.81</td>\n",
       "      <td>1086</td>\n",
       "      <td>68.05</td>\n",
       "    </tr>\n",
       "    <tr>\n",
       "      <th>579</th>\n",
       "      <td>Jaipur</td>\n",
       "      <td>Petrol</td>\n",
       "      <td>Manual</td>\n",
       "      <td>First</td>\n",
       "      <td>5.0</td>\n",
       "      <td>1.50</td>\n",
       "      <td>13</td>\n",
       "      <td>65</td>\n",
       "      <td>maruti</td>\n",
       "      <td>18.90</td>\n",
       "      <td>1061</td>\n",
       "      <td>67.00</td>\n",
       "    </tr>\n",
       "    <tr>\n",
       "      <th>668</th>\n",
       "      <td>Chennai</td>\n",
       "      <td>Petrol</td>\n",
       "      <td>Automatic</td>\n",
       "      <td>Second</td>\n",
       "      <td>5.0</td>\n",
       "      <td>4.25</td>\n",
       "      <td>3</td>\n",
       "      <td>12</td>\n",
       "      <td>maruti</td>\n",
       "      <td>23.10</td>\n",
       "      <td>998</td>\n",
       "      <td>67.04</td>\n",
       "    </tr>\n",
       "    <tr>\n",
       "      <th>547</th>\n",
       "      <td>Kolkata</td>\n",
       "      <td>Petrol</td>\n",
       "      <td>Manual</td>\n",
       "      <td>First</td>\n",
       "      <td>5.0</td>\n",
       "      <td>1.35</td>\n",
       "      <td>9</td>\n",
       "      <td>40</td>\n",
       "      <td>tata</td>\n",
       "      <td>15.00</td>\n",
       "      <td>1368</td>\n",
       "      <td>90.00</td>\n",
       "    </tr>\n",
       "    <tr>\n",
       "      <th>485</th>\n",
       "      <td>Pune</td>\n",
       "      <td>Petrol</td>\n",
       "      <td>Automatic</td>\n",
       "      <td>First</td>\n",
       "      <td>5.0</td>\n",
       "      <td>3.30</td>\n",
       "      <td>4</td>\n",
       "      <td>73</td>\n",
       "      <td>maruti</td>\n",
       "      <td>24.07</td>\n",
       "      <td>998</td>\n",
       "      <td>67.10</td>\n",
       "    </tr>\n",
       "    <tr>\n",
       "      <th>968</th>\n",
       "      <td>Mumbai</td>\n",
       "      <td>Petrol</td>\n",
       "      <td>Manual</td>\n",
       "      <td>First</td>\n",
       "      <td>5.0</td>\n",
       "      <td>5.40</td>\n",
       "      <td>2</td>\n",
       "      <td>12</td>\n",
       "      <td>volkswagen</td>\n",
       "      <td>17.00</td>\n",
       "      <td>1198</td>\n",
       "      <td>73.75</td>\n",
       "    </tr>\n",
       "    <tr>\n",
       "      <th>146</th>\n",
       "      <td>Mumbai</td>\n",
       "      <td>Petrol</td>\n",
       "      <td>Manual</td>\n",
       "      <td>First</td>\n",
       "      <td>5.0</td>\n",
       "      <td>4.35</td>\n",
       "      <td>6</td>\n",
       "      <td>52</td>\n",
       "      <td>honda</td>\n",
       "      <td>13.00</td>\n",
       "      <td>1493</td>\n",
       "      <td>100.00</td>\n",
       "    </tr>\n",
       "    <tr>\n",
       "      <th>925</th>\n",
       "      <td>Jaipur</td>\n",
       "      <td>Petrol</td>\n",
       "      <td>Manual</td>\n",
       "      <td>Second</td>\n",
       "      <td>NaN</td>\n",
       "      <td>1.70</td>\n",
       "      <td>14</td>\n",
       "      <td>88</td>\n",
       "      <td>honda</td>\n",
       "      <td>13.00</td>\n",
       "      <td>1493</td>\n",
       "      <td>100.00</td>\n",
       "    </tr>\n",
       "    <tr>\n",
       "      <th>888</th>\n",
       "      <td>Pune</td>\n",
       "      <td>Petrol</td>\n",
       "      <td>Manual</td>\n",
       "      <td>First</td>\n",
       "      <td>5.0</td>\n",
       "      <td>0.90</td>\n",
       "      <td>20</td>\n",
       "      <td>140</td>\n",
       "      <td>honda</td>\n",
       "      <td>13.00</td>\n",
       "      <td>1343</td>\n",
       "      <td>90.00</td>\n",
       "    </tr>\n",
       "  </tbody>\n",
       "</table>\n",
       "</div>"
      ],
      "text/plain": [
       "     Location Fuel_Type Transmission Owner_Type  Seats  Price  age  KM_Driven  \\\n",
       "1013  Kolkata    Petrol       Manual      First    5.0   1.00   10         37   \n",
       "32      Kochi    Petrol       Manual      First    5.0   4.04    2         52   \n",
       "579    Jaipur    Petrol       Manual      First    5.0   1.50   13         65   \n",
       "668   Chennai    Petrol    Automatic     Second    5.0   4.25    3         12   \n",
       "547   Kolkata    Petrol       Manual      First    5.0   1.35    9         40   \n",
       "485      Pune    Petrol    Automatic      First    5.0   3.30    4         73   \n",
       "968    Mumbai    Petrol       Manual      First    5.0   5.40    2         12   \n",
       "146    Mumbai    Petrol       Manual      First    5.0   4.35    6         52   \n",
       "925    Jaipur    Petrol       Manual     Second    NaN   1.70   14         88   \n",
       "888      Pune    Petrol       Manual      First    5.0   0.90   20        140   \n",
       "\n",
       "            make  mileage  engine   power  \n",
       "1013      maruti    17.30     993   60.00  \n",
       "32       hyundai    19.81    1086   68.05  \n",
       "579       maruti    18.90    1061   67.00  \n",
       "668       maruti    23.10     998   67.04  \n",
       "547         tata    15.00    1368   90.00  \n",
       "485       maruti    24.07     998   67.10  \n",
       "968   volkswagen    17.00    1198   73.75  \n",
       "146        honda    13.00    1493  100.00  \n",
       "925        honda    13.00    1493  100.00  \n",
       "888        honda    13.00    1343   90.00  "
      ]
     },
     "execution_count": 22,
     "metadata": {},
     "output_type": "execute_result"
    }
   ],
   "source": [
    "cars_df.sample(10)"
   ]
  },
  {
   "cell_type": "code",
   "execution_count": 23,
   "metadata": {},
   "outputs": [],
   "source": [
    "cars_df = cars_df.dropna()"
   ]
  },
  {
   "cell_type": "code",
   "execution_count": 24,
   "metadata": {},
   "outputs": [
    {
     "data": {
      "text/plain": [
       "['Location',\n",
       " 'Fuel_Type',\n",
       " 'Transmission',\n",
       " 'Owner_Type',\n",
       " 'Seats',\n",
       " 'Price',\n",
       " 'age',\n",
       " 'KM_Driven',\n",
       " 'make',\n",
       " 'mileage',\n",
       " 'engine',\n",
       " 'power']"
      ]
     },
     "execution_count": 24,
     "metadata": {},
     "output_type": "execute_result"
    }
   ],
   "source": [
    "list(cars_df.columns)"
   ]
  },
  {
   "cell_type": "code",
   "execution_count": 25,
   "metadata": {},
   "outputs": [],
   "source": [
    "num_features = [ 'Seats',\n",
    "                 'age',\n",
    "                 'KM_Driven',\n",
    "                 'mileage',\n",
    "                 'engine',\n",
    "                 'power' ]"
   ]
  },
  {
   "cell_type": "code",
   "execution_count": 26,
   "metadata": {},
   "outputs": [],
   "source": [
    "from sklearn.feature_selection import f_regression"
   ]
  },
  {
   "cell_type": "code",
   "execution_count": 27,
   "metadata": {},
   "outputs": [
    {
     "data": {
      "text/plain": [
       "(array([ 41.58911867, 976.75043839,  85.99326498, 124.97565594,\n",
       "         96.60064511, 381.77839921]),\n",
       " array([1.72505001e-010, 1.52352452e-151, 1.02119503e-019, 1.79520127e-027,\n",
       "        7.40886520e-022, 1.29082129e-072]))"
      ]
     },
     "execution_count": 27,
     "metadata": {},
     "output_type": "execute_result"
    }
   ],
   "source": [
    "f_regression(cars_df[num_features], cars_df.Price)"
   ]
  },
  {
   "cell_type": "code",
   "execution_count": 28,
   "metadata": {},
   "outputs": [],
   "source": [
    "cars_ftest, _ = f_regression(cars_df[num_features], cars_df.Price)\n",
    "cars_ftest /= np.max(cars_ftest)"
   ]
  },
  {
   "cell_type": "code",
   "execution_count": 29,
   "metadata": {},
   "outputs": [
    {
     "data": {
      "text/html": [
       "<div>\n",
       "<style scoped>\n",
       "    .dataframe tbody tr th:only-of-type {\n",
       "        vertical-align: middle;\n",
       "    }\n",
       "\n",
       "    .dataframe tbody tr th {\n",
       "        vertical-align: top;\n",
       "    }\n",
       "\n",
       "    .dataframe thead th {\n",
       "        text-align: right;\n",
       "    }\n",
       "</style>\n",
       "<table border=\"1\" class=\"dataframe\">\n",
       "  <thead>\n",
       "    <tr style=\"text-align: right;\">\n",
       "      <th></th>\n",
       "      <th>features</th>\n",
       "      <th>f_testscore</th>\n",
       "    </tr>\n",
       "  </thead>\n",
       "  <tbody>\n",
       "    <tr>\n",
       "      <th>1</th>\n",
       "      <td>age</td>\n",
       "      <td>1.000000</td>\n",
       "    </tr>\n",
       "    <tr>\n",
       "      <th>5</th>\n",
       "      <td>power</td>\n",
       "      <td>0.390866</td>\n",
       "    </tr>\n",
       "    <tr>\n",
       "      <th>3</th>\n",
       "      <td>mileage</td>\n",
       "      <td>0.127950</td>\n",
       "    </tr>\n",
       "    <tr>\n",
       "      <th>4</th>\n",
       "      <td>engine</td>\n",
       "      <td>0.098900</td>\n",
       "    </tr>\n",
       "    <tr>\n",
       "      <th>2</th>\n",
       "      <td>KM_Driven</td>\n",
       "      <td>0.088040</td>\n",
       "    </tr>\n",
       "    <tr>\n",
       "      <th>0</th>\n",
       "      <td>Seats</td>\n",
       "      <td>0.042579</td>\n",
       "    </tr>\n",
       "  </tbody>\n",
       "</table>\n",
       "</div>"
      ],
      "text/plain": [
       "    features  f_testscore\n",
       "1        age     1.000000\n",
       "5      power     0.390866\n",
       "3    mileage     0.127950\n",
       "4     engine     0.098900\n",
       "2  KM_Driven     0.088040\n",
       "0      Seats     0.042579"
      ]
     },
     "execution_count": 29,
     "metadata": {},
     "output_type": "execute_result"
    }
   ],
   "source": [
    "cars_ftest_df = pd.DataFrame({'features' : num_features, 'f_testscore': cars_ftest})\n",
    "cars_ftest_df = cars_ftest_df.sort_values('f_testscore', ascending = False)\n",
    "cars_ftest_df"
   ]
  },
  {
   "cell_type": "code",
   "execution_count": 30,
   "metadata": {},
   "outputs": [
    {
     "data": {
      "image/png": "[encoded data removed]",
      "text/plain": [
       "<Figure size 432x288 with 1 Axes>"
      ]
     },
     "metadata": {
      "needs_background": "light"
     },
     "output_type": "display_data"
    }
   ],
   "source": [
    "sn.barplot(data = cars_ftest_df,\n",
    "           x = 'features',\n",
    "           y = 'f_testscore');"
   ]
  },
  {
   "cell_type": "markdown",
   "metadata": {},
   "source": [
    "## Classification"
   ]
  },
  {
   "cell_type": "code",
   "execution_count": 31,
   "metadata": {},
   "outputs": [],
   "source": [
    "num_cols = [ 'sbp',\n",
    "             'tobacco',\n",
    "             'ldl',\n",
    "             'adiposity',\n",
    "             'typea',\n",
    "             'obesity',\n",
    "             'alcohol',\n",
    "             'age']"
   ]
  },
  {
   "cell_type": "code",
   "execution_count": 44,
   "metadata": {},
   "outputs": [],
   "source": [
    "from sklearn.feature_selection import f_classif, chi2"
   ]
  },
  {
   "cell_type": "code",
   "execution_count": 33,
   "metadata": {},
   "outputs": [
    {
     "data": {
      "text/plain": [
       "(array([17.673987  , 45.40042458, 34.19679469, 31.75649409,  4.94756521,\n",
       "         4.65539358,  1.80569994, 74.33019852]),\n",
       " array([3.15159932e-05, 4.81584257e-11, 9.45720791e-09, 3.05050773e-08,\n",
       "        2.66120421e-02, 3.14731680e-02, 1.79687358e-01, 1.07418182e-16]))"
      ]
     },
     "execution_count": 33,
     "metadata": {},
     "output_type": "execute_result"
    }
   ],
   "source": [
    "f_classif(saheart_ds[num_cols], saheart_ds.chd)"
   ]
  },
  {
   "cell_type": "code",
   "execution_count": 39,
   "metadata": {},
   "outputs": [],
   "source": [
    "saheart_ftest, saheart_ftest_pvalues = f_classif(saheart_ds[num_cols], saheart_ds.chd)\n",
    "saheart_ftest /= np.max(saheart_ftest)"
   ]
  },
  {
   "cell_type": "code",
   "execution_count": 40,
   "metadata": {},
   "outputs": [
    {
     "data": {
      "text/plain": [
       "array([0.  , 0.  , 0.  , 0.  , 0.03, 0.03, 0.18, 0.  ])"
      ]
     },
     "execution_count": 40,
     "metadata": {},
     "output_type": "execute_result"
    }
   ],
   "source": [
    "np.round(saheart_ftest_pvalues, 2)"
   ]
  },
  {
   "cell_type": "code",
   "execution_count": 42,
   "metadata": {},
   "outputs": [
    {
     "data": {
      "text/html": [
       "<div>\n",
       "<style scoped>\n",
       "    .dataframe tbody tr th:only-of-type {\n",
       "        vertical-align: middle;\n",
       "    }\n",
       "\n",
       "    .dataframe tbody tr th {\n",
       "        vertical-align: top;\n",
       "    }\n",
       "\n",
       "    .dataframe thead th {\n",
       "        text-align: right;\n",
       "    }\n",
       "</style>\n",
       "<table border=\"1\" class=\"dataframe\">\n",
       "  <thead>\n",
       "    <tr style=\"text-align: right;\">\n",
       "      <th></th>\n",
       "      <th>features</th>\n",
       "      <th>f_testscore</th>\n",
       "      <th>p_value</th>\n",
       "    </tr>\n",
       "  </thead>\n",
       "  <tbody>\n",
       "    <tr>\n",
       "      <th>7</th>\n",
       "      <td>age</td>\n",
       "      <td>1.000000</td>\n",
       "      <td>0.00</td>\n",
       "    </tr>\n",
       "    <tr>\n",
       "      <th>1</th>\n",
       "      <td>tobacco</td>\n",
       "      <td>0.610794</td>\n",
       "      <td>0.00</td>\n",
       "    </tr>\n",
       "    <tr>\n",
       "      <th>2</th>\n",
       "      <td>ldl</td>\n",
       "      <td>0.460066</td>\n",
       "      <td>0.00</td>\n",
       "    </tr>\n",
       "    <tr>\n",
       "      <th>3</th>\n",
       "      <td>adiposity</td>\n",
       "      <td>0.427235</td>\n",
       "      <td>0.00</td>\n",
       "    </tr>\n",
       "    <tr>\n",
       "      <th>0</th>\n",
       "      <td>sbp</td>\n",
       "      <td>0.237777</td>\n",
       "      <td>0.00</td>\n",
       "    </tr>\n",
       "    <tr>\n",
       "      <th>4</th>\n",
       "      <td>typea</td>\n",
       "      <td>0.066562</td>\n",
       "      <td>0.03</td>\n",
       "    </tr>\n",
       "    <tr>\n",
       "      <th>5</th>\n",
       "      <td>obesity</td>\n",
       "      <td>0.062631</td>\n",
       "      <td>0.03</td>\n",
       "    </tr>\n",
       "    <tr>\n",
       "      <th>6</th>\n",
       "      <td>alcohol</td>\n",
       "      <td>0.024293</td>\n",
       "      <td>0.18</td>\n",
       "    </tr>\n",
       "  </tbody>\n",
       "</table>\n",
       "</div>"
      ],
      "text/plain": [
       "    features  f_testscore  p_value\n",
       "7        age     1.000000     0.00\n",
       "1    tobacco     0.610794     0.00\n",
       "2        ldl     0.460066     0.00\n",
       "3  adiposity     0.427235     0.00\n",
       "0        sbp     0.237777     0.00\n",
       "4      typea     0.066562     0.03\n",
       "5    obesity     0.062631     0.03\n",
       "6    alcohol     0.024293     0.18"
      ]
     },
     "execution_count": 42,
     "metadata": {},
     "output_type": "execute_result"
    }
   ],
   "source": [
    "saheart_ftest_df = pd.DataFrame({'features' : num_cols, \n",
    "                                 'f_testscore': saheart_ftest,\n",
    "                                 'p_value': np.round(saheart_ftest_pvalues, 2)})\n",
    "saheart_ftest_df = saheart_ftest_df.sort_values('f_testscore', ascending = False)\n",
    "saheart_ftest_df"
   ]
  },
  {
   "cell_type": "code",
   "execution_count": 43,
   "metadata": {},
   "outputs": [
    {
     "data": {
      "image/png": "[encoded data removed]",
      "text/plain": [
       "<Figure size 432x288 with 1 Axes>"
      ]
     },
     "metadata": {
      "needs_background": "light"
     },
     "output_type": "display_data"
    }
   ],
   "source": [
    "sn.barplot(data = saheart_ftest_df[saheart_ftest_df.p_value < 0.05],\n",
    "           x = 'features',\n",
    "           y = 'f_testscore');"
   ]
  },
  {
   "cell_type": "code",
   "execution_count": 48,
   "metadata": {},
   "outputs": [],
   "source": [
    "saheart_ds['famhist_ohe'] = pd.get_dummies(saheart_ds['famhist'], columns='famhist', drop_first=True)"
   ]
  },
  {
   "cell_type": "code",
   "execution_count": 49,
   "metadata": {},
   "outputs": [
    {
     "data": {
      "text/plain": [
       "(array([20.03046358]), array([7.62182164e-06]))"
      ]
     },
     "execution_count": 49,
     "metadata": {},
     "output_type": "execute_result"
    }
   ],
   "source": [
    "chi2(saheart_ds[['famhist_ohe']], saheart_ds.chd)"
   ]
  },
  {
   "cell_type": "code",
   "execution_count": null,
   "metadata": {},
   "outputs": [],
   "source": []
  }
 ],
 "metadata": {
  "anaconda-cloud": {},
  "kernelspec": {
   "display_name": "Python 3",
   "language": "python",
   "name": "python3"
  },
  "language_info": {
   "codemirror_mode": {
    "name": "ipython",
    "version": 3
   },
   "file_extension": ".py",
   "mimetype": "text/x-python",
   "name": "python",
   "nbconvert_exporter": "python",
   "pygments_lexer": "ipython3",
   "version": "3.8.5"
  }
 },
 "nbformat": 4,
 "nbformat_minor": 1
}
